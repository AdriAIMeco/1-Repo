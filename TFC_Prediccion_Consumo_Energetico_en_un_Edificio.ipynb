{
  "nbformat": 4,
  "nbformat_minor": 0,
  "metadata": {
    "colab": {
      "provenance": [],
      "authorship_tag": "ABX9TyN73iapyfYrOWeBePsy1ymQ",
      "include_colab_link": true
    },
    "kernelspec": {
      "name": "python3",
      "display_name": "Python 3"
    },
    "language_info": {
      "name": "python"
    }
  },
  "cells": [
    {
      "cell_type": "markdown",
      "metadata": {
        "id": "view-in-github",
        "colab_type": "text"
      },
      "source": [
        "<a href=\"https://colab.research.google.com/github/AdriAIMeco/1-Repo/blob/main/TFC_Prediccion_Consumo_Energetico_en_un_Edificio.ipynb\" target=\"_parent\"><img src=\"https://colab.research.google.com/assets/colab-badge.svg\" alt=\"Open In Colab\"/></a>"
      ]
    },
    {
      "cell_type": "code",
      "execution_count": 11,
      "metadata": {
        "colab": {
          "base_uri": "https://localhost:8080/",
          "height": 1000
        },
        "id": "2ofrkKRll4zu",
        "outputId": "0c5b76f5-d3ea-433c-ccd8-b947dfea3dd3"
      },
      "outputs": [
        {
          "output_type": "stream",
          "name": "stdout",
          "text": [
            "R² en test: 0.316\n",
            "Modelo entrenado y guardado en 'model.pkl'\n",
            "Requirement already satisfied: gradio in /usr/local/lib/python3.11/dist-packages (5.25.0)\n",
            "Requirement already satisfied: aiofiles<25.0,>=22.0 in /usr/local/lib/python3.11/dist-packages (from gradio) (24.1.0)\n",
            "Requirement already satisfied: anyio<5.0,>=3.0 in /usr/local/lib/python3.11/dist-packages (from gradio) (4.9.0)\n",
            "Requirement already satisfied: fastapi<1.0,>=0.115.2 in /usr/local/lib/python3.11/dist-packages (from gradio) (0.115.12)\n",
            "Requirement already satisfied: ffmpy in /usr/local/lib/python3.11/dist-packages (from gradio) (0.5.0)\n",
            "Requirement already satisfied: gradio-client==1.8.0 in /usr/local/lib/python3.11/dist-packages (from gradio) (1.8.0)\n",
            "Requirement already satisfied: groovy~=0.1 in /usr/local/lib/python3.11/dist-packages (from gradio) (0.1.2)\n",
            "Requirement already satisfied: httpx>=0.24.1 in /usr/local/lib/python3.11/dist-packages (from gradio) (0.28.1)\n",
            "Requirement already satisfied: huggingface-hub>=0.28.1 in /usr/local/lib/python3.11/dist-packages (from gradio) (0.30.1)\n",
            "Requirement already satisfied: jinja2<4.0 in /usr/local/lib/python3.11/dist-packages (from gradio) (3.1.6)\n",
            "Requirement already satisfied: markupsafe<4.0,>=2.0 in /usr/local/lib/python3.11/dist-packages (from gradio) (3.0.2)\n",
            "Requirement already satisfied: numpy<3.0,>=1.0 in /usr/local/lib/python3.11/dist-packages (from gradio) (2.0.2)\n",
            "Requirement already satisfied: orjson~=3.0 in /usr/local/lib/python3.11/dist-packages (from gradio) (3.10.16)\n",
            "Requirement already satisfied: packaging in /usr/local/lib/python3.11/dist-packages (from gradio) (24.2)\n",
            "Requirement already satisfied: pandas<3.0,>=1.0 in /usr/local/lib/python3.11/dist-packages (from gradio) (2.2.2)\n",
            "Requirement already satisfied: pillow<12.0,>=8.0 in /usr/local/lib/python3.11/dist-packages (from gradio) (11.1.0)\n",
            "Requirement already satisfied: pydantic<2.12,>=2.0 in /usr/local/lib/python3.11/dist-packages (from gradio) (2.11.2)\n",
            "Requirement already satisfied: pydub in /usr/local/lib/python3.11/dist-packages (from gradio) (0.25.1)\n",
            "Requirement already satisfied: python-multipart>=0.0.18 in /usr/local/lib/python3.11/dist-packages (from gradio) (0.0.20)\n",
            "Requirement already satisfied: pyyaml<7.0,>=5.0 in /usr/local/lib/python3.11/dist-packages (from gradio) (6.0.2)\n",
            "Requirement already satisfied: ruff>=0.9.3 in /usr/local/lib/python3.11/dist-packages (from gradio) (0.11.5)\n",
            "Requirement already satisfied: safehttpx<0.2.0,>=0.1.6 in /usr/local/lib/python3.11/dist-packages (from gradio) (0.1.6)\n",
            "Requirement already satisfied: semantic-version~=2.0 in /usr/local/lib/python3.11/dist-packages (from gradio) (2.10.0)\n",
            "Requirement already satisfied: starlette<1.0,>=0.40.0 in /usr/local/lib/python3.11/dist-packages (from gradio) (0.46.2)\n",
            "Requirement already satisfied: tomlkit<0.14.0,>=0.12.0 in /usr/local/lib/python3.11/dist-packages (from gradio) (0.13.2)\n",
            "Requirement already satisfied: typer<1.0,>=0.12 in /usr/local/lib/python3.11/dist-packages (from gradio) (0.15.2)\n",
            "Requirement already satisfied: typing-extensions~=4.0 in /usr/local/lib/python3.11/dist-packages (from gradio) (4.13.1)\n",
            "Requirement already satisfied: uvicorn>=0.14.0 in /usr/local/lib/python3.11/dist-packages (from gradio) (0.34.1)\n",
            "Requirement already satisfied: fsspec in /usr/local/lib/python3.11/dist-packages (from gradio-client==1.8.0->gradio) (2025.3.2)\n",
            "Requirement already satisfied: websockets<16.0,>=10.0 in /usr/local/lib/python3.11/dist-packages (from gradio-client==1.8.0->gradio) (15.0.1)\n",
            "Requirement already satisfied: idna>=2.8 in /usr/local/lib/python3.11/dist-packages (from anyio<5.0,>=3.0->gradio) (3.10)\n",
            "Requirement already satisfied: sniffio>=1.1 in /usr/local/lib/python3.11/dist-packages (from anyio<5.0,>=3.0->gradio) (1.3.1)\n",
            "Requirement already satisfied: certifi in /usr/local/lib/python3.11/dist-packages (from httpx>=0.24.1->gradio) (2025.1.31)\n",
            "Requirement already satisfied: httpcore==1.* in /usr/local/lib/python3.11/dist-packages (from httpx>=0.24.1->gradio) (1.0.7)\n",
            "Requirement already satisfied: h11<0.15,>=0.13 in /usr/local/lib/python3.11/dist-packages (from httpcore==1.*->httpx>=0.24.1->gradio) (0.14.0)\n",
            "Requirement already satisfied: filelock in /usr/local/lib/python3.11/dist-packages (from huggingface-hub>=0.28.1->gradio) (3.18.0)\n",
            "Requirement already satisfied: requests in /usr/local/lib/python3.11/dist-packages (from huggingface-hub>=0.28.1->gradio) (2.32.3)\n",
            "Requirement already satisfied: tqdm>=4.42.1 in /usr/local/lib/python3.11/dist-packages (from huggingface-hub>=0.28.1->gradio) (4.67.1)\n",
            "Requirement already satisfied: python-dateutil>=2.8.2 in /usr/local/lib/python3.11/dist-packages (from pandas<3.0,>=1.0->gradio) (2.8.2)\n",
            "Requirement already satisfied: pytz>=2020.1 in /usr/local/lib/python3.11/dist-packages (from pandas<3.0,>=1.0->gradio) (2025.2)\n",
            "Requirement already satisfied: tzdata>=2022.7 in /usr/local/lib/python3.11/dist-packages (from pandas<3.0,>=1.0->gradio) (2025.2)\n",
            "Requirement already satisfied: annotated-types>=0.6.0 in /usr/local/lib/python3.11/dist-packages (from pydantic<2.12,>=2.0->gradio) (0.7.0)\n",
            "Requirement already satisfied: pydantic-core==2.33.1 in /usr/local/lib/python3.11/dist-packages (from pydantic<2.12,>=2.0->gradio) (2.33.1)\n",
            "Requirement already satisfied: typing-inspection>=0.4.0 in /usr/local/lib/python3.11/dist-packages (from pydantic<2.12,>=2.0->gradio) (0.4.0)\n",
            "Requirement already satisfied: click>=8.0.0 in /usr/local/lib/python3.11/dist-packages (from typer<1.0,>=0.12->gradio) (8.1.8)\n",
            "Requirement already satisfied: shellingham>=1.3.0 in /usr/local/lib/python3.11/dist-packages (from typer<1.0,>=0.12->gradio) (1.5.4)\n",
            "Requirement already satisfied: rich>=10.11.0 in /usr/local/lib/python3.11/dist-packages (from typer<1.0,>=0.12->gradio) (13.9.4)\n",
            "Requirement already satisfied: six>=1.5 in /usr/local/lib/python3.11/dist-packages (from python-dateutil>=2.8.2->pandas<3.0,>=1.0->gradio) (1.17.0)\n",
            "Requirement already satisfied: markdown-it-py>=2.2.0 in /usr/local/lib/python3.11/dist-packages (from rich>=10.11.0->typer<1.0,>=0.12->gradio) (3.0.0)\n",
            "Requirement already satisfied: pygments<3.0.0,>=2.13.0 in /usr/local/lib/python3.11/dist-packages (from rich>=10.11.0->typer<1.0,>=0.12->gradio) (2.18.0)\n",
            "Requirement already satisfied: charset-normalizer<4,>=2 in /usr/local/lib/python3.11/dist-packages (from requests->huggingface-hub>=0.28.1->gradio) (3.4.1)\n",
            "Requirement already satisfied: urllib3<3,>=1.21.1 in /usr/local/lib/python3.11/dist-packages (from requests->huggingface-hub>=0.28.1->gradio) (2.3.0)\n",
            "Requirement already satisfied: mdurl~=0.1 in /usr/local/lib/python3.11/dist-packages (from markdown-it-py>=2.2.0->rich>=10.11.0->typer<1.0,>=0.12->gradio) (0.1.2)\n"
          ]
        },
        {
          "output_type": "stream",
          "name": "stderr",
          "text": [
            "/usr/local/lib/python3.11/dist-packages/gradio/utils.py:1024: UserWarning: Expected 7 arguments for function <function predict_energy at 0x78fe91d05300>, received 6.\n",
            "  warnings.warn(\n",
            "/usr/local/lib/python3.11/dist-packages/gradio/utils.py:1028: UserWarning: Expected at least 7 arguments for function <function predict_energy at 0x78fe91d05300>, received 6.\n",
            "  warnings.warn(\n"
          ]
        },
        {
          "output_type": "stream",
          "name": "stdout",
          "text": [
            "Running Gradio in a Colab notebook requires sharing enabled. Automatically setting `share=True` (you can turn this off by setting `share=False` in `launch()` explicitly).\n",
            "\n",
            "Colab notebook detected. To show errors in colab notebook, set debug=True in launch()\n",
            "* Running on public URL: https://bafb782e452affae73.gradio.live\n",
            "\n",
            "This share link expires in 72 hours. For free permanent hosting and GPU upgrades, run `gradio deploy` from the terminal in the working directory to deploy to Hugging Face Spaces (https://huggingface.co/spaces)\n"
          ]
        },
        {
          "output_type": "display_data",
          "data": {
            "text/plain": [
              "<IPython.core.display.HTML object>"
            ],
            "text/html": [
              "<div><iframe src=\"https://bafb782e452affae73.gradio.live\" width=\"100%\" height=\"500\" allow=\"autoplay; camera; microphone; clipboard-read; clipboard-write;\" frameborder=\"0\" allowfullscreen></iframe></div>"
            ]
          },
          "metadata": {}
        }
      ],
      "source": [
        "import pandas as pd\n",
        "import numpy as np\n",
        "from sklearn.model_selection import train_test_split\n",
        "from sklearn.ensemble import RandomForestRegressor\n",
        "import joblib\n",
        "\n",
        "# ------------------------\n",
        "# 1. Creación o carga del dataset\n",
        "# ------------------------\n",
        "# En este ejemplo, generamos datos sintéticos de consumo energético.\n",
        "# En un proyecto real, cargarías tu dataset real (por ejemplo, con pd.read_csv(\"tus_datos.csv\")).\n",
        "\n",
        "np.random.seed(42)\n",
        "data_size = 1000\n",
        "\n",
        "df = pd.DataFrame({\n",
        "    'temp_in':    np.random.uniform(15, 25, data_size),   # Temperatura interior\n",
        "    'temp_out':   np.random.uniform(-5, 35, data_size),   # Temperatura exterior\n",
        "    'hum_in':     np.random.uniform(30, 60, data_size),   # Humedad interior\n",
        "    'hum_out':    np.random.uniform(20, 80, data_size),   # Humedad exterior\n",
        "    'hour':       np.random.randint(0, 24, data_size),    # Hora del día (0-23)\n",
        "    'day_of_week':np.random.randint(0, 7, data_size),     # Día de la semana (0=Lunes,...,6=Domingo)\n",
        "    'occupants':  np.random.randint(1, 5, data_size)      # Número de ocupantes\n",
        "})\n",
        "\n",
        "# Suponemos que el consumo energético es una función de las anteriores variables + ruido\n",
        "df['energy_consumption'] = (\n",
        "    df['temp_in'] * 0.5 +\n",
        "    (35 - df['temp_out']) * 0.2 +\n",
        "    df['hum_in'] * 0.3 +\n",
        "    df['hum_out'] * 0.1 +\n",
        "    df['hour'] * 0.7 +\n",
        "    df['day_of_week'] * 0.8 +\n",
        "    df['occupants'] * 5 +\n",
        "    np.random.normal(0, 10, data_size)  # ruido\n",
        ")\n",
        "\n",
        "# ------------------------\n",
        "# 2. Separación en features y target\n",
        "# ------------------------\n",
        "X = df.drop('energy_consumption', axis=1)\n",
        "y = df['energy_consumption']\n",
        "\n",
        "# ------------------------\n",
        "# 3. División en train/test\n",
        "# ------------------------\n",
        "X_train, X_test, y_train, y_test = train_test_split(\n",
        "    X, y, test_size=0.2, random_state=42\n",
        ")\n",
        "\n",
        "# ------------------------\n",
        "# 4. Entrenamiento de un modelo de regresión (RandomForest)\n",
        "# ------------------------\n",
        "model = RandomForestRegressor(n_estimators=100, random_state=42)\n",
        "model.fit(X_train, y_train)\n",
        "\n",
        "# (Opcional) Puedes imprimir la métrica en el conjunto de test\n",
        "score = model.score(X_test, y_test)\n",
        "print(f\"R² en test: {score:.3f}\")\n",
        "\n",
        "# ------------------------\n",
        "# 5. Guardar el modelo con joblib\n",
        "# ------------------------\n",
        "joblib.dump(model, \"model.pkl\")\n",
        "print(\"Modelo entrenado y guardado en 'model.pkl'\")\n",
        "!pip install gradio\n",
        "\n",
        "import gradio as gr\n",
        "import joblib\n",
        "import numpy as np\n",
        "\n",
        "# Cargar el modelo previamente guardado\n",
        "model = joblib.load(\"model.pkl\")\n",
        "\n",
        "def predict_energy(temp_in, temp_out, hum_in, hum_out, hour, day_of_week, occupants):\n",
        "    \"\"\"\n",
        "    Función principal para predecir el consumo energético\n",
        "    Dados los valores de variables ambientales y ocupación.\n",
        "    \"\"\"\n",
        "    # Convertimos los inputs en un array 2D, tal como espera el modelo\n",
        "    X = np.array([[temp_in, temp_out, hum_in, hum_out, hour, day_of_week, occupants]])\n",
        "\n",
        "    # Realizar la predicción\n",
        "    prediction = model.predict(X)\n",
        "\n",
        "    # Devolver el valor (a 2 decimales)\n",
        "    return f\"{prediction[0]:.2f} kWh\"\n",
        "\n",
        "# Configurar la interfaz de Gradio\n",
        "iface = gr.Interface(\n",
        "    fn=predict_energy,\n",
        "    inputs=[\n",
        "        gr.Slider(minimum=0,  maximum=40, step=0.5, value=20, label=\"Temperatura Interior (°C)\"),\n",
        "        gr.Slider(minimum=0,  maximum=100, step=1,  value=50, label=\"Humedad Interior (%)\"),\n",
        "        gr.Slider(minimum=0,  maximum=100, step=1,  value=60, label=\"Humedad Exterior (%)\"),\n",
        "        gr.Slider(minimum=0,  maximum=23, step=1,  value=12, label=\"Hora del día\"),\n",
        "        gr.Slider(minimum=0,  maximum=6,  step=1,  value=2,  label=\"Día de la semana (0=Lunes,6=Dom)\"),\n",
        "        gr.Number(value=2,  label=\"Número de Ocupantes\")\n",
        "    ],\n",
        "    outputs=\"text\",\n",
        "    title=\"Predicción de Consumo Energético (kWh)\"\n",
        ")\n",
        "\n",
        "if __name__ == \"__main__\":\n",
        "    iface.launch()\n",
        "\n",
        "\n",
        "\n"
      ]
    }
  ]
}