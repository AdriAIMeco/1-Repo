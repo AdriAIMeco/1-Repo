{
  "nbformat": 4,
  "nbformat_minor": 0,
  "metadata": {
    "colab": {
      "provenance": [],
      "authorship_tag": "ABX9TyPr/E7+HkyIVO5epFvWrIU0",
      "include_colab_link": true
    },
    "kernelspec": {
      "name": "python3",
      "display_name": "Python 3"
    },
    "language_info": {
      "name": "python"
    }
  },
  "cells": [
    {
      "cell_type": "markdown",
      "metadata": {
        "id": "view-in-github",
        "colab_type": "text"
      },
      "source": [
        "<a href=\"https://colab.research.google.com/github/AdriAIMeco/1-Repo/blob/main/TFM_Predicci%C3%B3n_de_Consumo_Energ%C3%A9tico_en_un_Edificio_model_pkl.ipynb\" target=\"_parent\"><img src=\"https://colab.research.google.com/assets/colab-badge.svg\" alt=\"Open In Colab\"/></a>"
      ]
    },
    {
      "cell_type": "code",
      "execution_count": 1,
      "metadata": {
        "colab": {
          "base_uri": "https://localhost:8080/"
        },
        "id": "Ol_qlcnXuj_Z",
        "outputId": "2f93f82c-6c66-47de-d1f7-11f7be34f979"
      },
      "outputs": [
        {
          "output_type": "stream",
          "name": "stdout",
          "text": [
            "R² en test: 0.316\n",
            "Modelo entrenado y guardado en 'model.pkl'\n"
          ]
        }
      ],
      "source": [
        "import pandas as pd\n",
        "import numpy as np\n",
        "from sklearn.model_selection import train_test_split\n",
        "from sklearn.ensemble import RandomForestRegressor\n",
        "import joblib\n",
        "\n",
        "# ------------------------\n",
        "# 1. Creación o carga del dataset\n",
        "# ------------------------\n",
        "# En este ejemplo, generamos datos sintéticos de consumo energético.\n",
        "# En un proyecto real, cargarías tu dataset real (por ejemplo, con pd.read_csv(\"tus_datos.csv\")).\n",
        "\n",
        "np.random.seed(42)\n",
        "data_size = 1000\n",
        "\n",
        "df = pd.DataFrame({\n",
        "    'temp_in':    np.random.uniform(15, 25, data_size),   # Temperatura interior\n",
        "    'temp_out':   np.random.uniform(-5, 35, data_size),   # Temperatura exterior\n",
        "    'hum_in':     np.random.uniform(30, 60, data_size),   # Humedad interior\n",
        "    'hum_out':    np.random.uniform(20, 80, data_size),   # Humedad exterior\n",
        "    'hour':       np.random.randint(0, 24, data_size),    # Hora del día (0-23)\n",
        "    'day_of_week':np.random.randint(0, 7, data_size),     # Día de la semana (0=Lunes,...,6=Domingo)\n",
        "    'occupants':  np.random.randint(1, 5, data_size)      # Número de ocupantes\n",
        "})\n",
        "\n",
        "# Suponemos que el consumo energético es una función de las anteriores variables + ruido\n",
        "df['energy_consumption'] = (\n",
        "    df['temp_in'] * 0.5 +\n",
        "    (35 - df['temp_out']) * 0.2 +\n",
        "    df['hum_in'] * 0.3 +\n",
        "    df['hum_out'] * 0.1 +\n",
        "    df['hour'] * 0.7 +\n",
        "    df['day_of_week'] * 0.8 +\n",
        "    df['occupants'] * 5 +\n",
        "    np.random.normal(0, 10, data_size)  # ruido\n",
        ")\n",
        "\n",
        "# ------------------------\n",
        "# 2. Separación en features y target\n",
        "# ------------------------\n",
        "X = df.drop('energy_consumption', axis=1)\n",
        "y = df['energy_consumption']\n",
        "\n",
        "# ------------------------\n",
        "# 3. División en train/test\n",
        "# ------------------------\n",
        "X_train, X_test, y_train, y_test = train_test_split(\n",
        "    X, y, test_size=0.2, random_state=42\n",
        ")\n",
        "\n",
        "# ------------------------\n",
        "# 4. Entrenamiento de un modelo de regresión (RandomForest)\n",
        "# ------------------------\n",
        "model = RandomForestRegressor(n_estimators=100, random_state=42)\n",
        "model.fit(X_train, y_train)\n",
        "\n",
        "# (Opcional) Puedes imprimir la métrica en el conjunto de test\n",
        "score = model.score(X_test, y_test)\n",
        "print(f\"R² en test: {score:.3f}\")\n",
        "\n",
        "# ------------------------\n",
        "# 5. Guardar el modelo con joblib\n",
        "# ------------------------\n",
        "joblib.dump(model, \"model.pkl\")\n",
        "print(\"Modelo entrenado y guardado en 'model.pkl'\")\n"
      ]
    }
  ]
}