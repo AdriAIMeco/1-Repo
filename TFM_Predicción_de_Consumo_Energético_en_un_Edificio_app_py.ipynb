{
  "nbformat": 4,
  "nbformat_minor": 0,
  "metadata": {
    "colab": {
      "provenance": [],
      "authorship_tag": "ABX9TyPGWD4blTNqr4zx5GPOT0Kp",
      "include_colab_link": true
    },
    "kernelspec": {
      "name": "python3",
      "display_name": "Python 3"
    },
    "language_info": {
      "name": "python"
    }
  },
  "cells": [
    {
      "cell_type": "markdown",
      "metadata": {
        "id": "view-in-github",
        "colab_type": "text"
      },
      "source": [
        "<a href=\"https://colab.research.google.com/github/AdriAIMeco/1-Repo/blob/main/TFM_Predicci%C3%B3n_de_Consumo_Energ%C3%A9tico_en_un_Edificio_app_py.ipynb\" target=\"_parent\"><img src=\"https://colab.research.google.com/assets/colab-badge.svg\" alt=\"Open In Colab\"/></a>"
      ]
    },
    {
      "cell_type": "code",
      "execution_count": 13,
      "metadata": {
        "colab": {
          "base_uri": "https://localhost:8080/",
          "height": 695
        },
        "id": "2ofrkKRll4zu",
        "outputId": "1538ccaf-c3c6-4754-d2b5-abdb23066c30"
      },
      "outputs": [
        {
          "output_type": "stream",
          "name": "stderr",
          "text": [
            "/usr/local/lib/python3.11/dist-packages/gradio/utils.py:1024: UserWarning: Expected 7 arguments for function <function predict_energy at 0x7cd9337700e0>, received 6.\n",
            "  warnings.warn(\n",
            "/usr/local/lib/python3.11/dist-packages/gradio/utils.py:1028: UserWarning: Expected at least 7 arguments for function <function predict_energy at 0x7cd9337700e0>, received 6.\n",
            "  warnings.warn(\n"
          ]
        },
        {
          "output_type": "stream",
          "name": "stdout",
          "text": [
            "Running Gradio in a Colab notebook requires sharing enabled. Automatically setting `share=True` (you can turn this off by setting `share=False` in `launch()` explicitly).\n",
            "\n",
            "Colab notebook detected. To show errors in colab notebook, set debug=True in launch()\n",
            "* Running on public URL: https://9cba2a6739a573bc68.gradio.live\n",
            "\n",
            "This share link expires in 72 hours. For free permanent hosting and GPU upgrades, run `gradio deploy` from the terminal in the working directory to deploy to Hugging Face Spaces (https://huggingface.co/spaces)\n"
          ]
        },
        {
          "output_type": "display_data",
          "data": {
            "text/plain": [
              "<IPython.core.display.HTML object>"
            ],
            "text/html": [
              "<div><iframe src=\"https://9cba2a6739a573bc68.gradio.live\" width=\"100%\" height=\"500\" allow=\"autoplay; camera; microphone; clipboard-read; clipboard-write;\" frameborder=\"0\" allowfullscreen></iframe></div>"
            ]
          },
          "metadata": {}
        }
      ],
      "source": [
        "import gradio as gr\n",
        "import joblib\n",
        "import numpy as np\n",
        "\n",
        "# Cargar el modelo previamente guardado\n",
        "model = joblib.load(\"model.pkl\")\n",
        "\n",
        "def predict_energy(temp_in, temp_out, hum_in, hum_out, hour, day_of_week, occupants):\n",
        "    \"\"\"\n",
        "    Función principal para predecir el consumo energético\n",
        "    Dados los valores de variables ambientales y ocupación.\n",
        "    \"\"\"\n",
        "    # Convertimos los inputs en un array 2D, tal como espera el modelo\n",
        "    X = np.array([[temp_in, temp_out, hum_in, hum_out, hour, day_of_week, occupants]])\n",
        "\n",
        "    # Realizar la predicción\n",
        "    prediction = model.predict(X)\n",
        "\n",
        "    # Devolver el valor (a 2 decimales)\n",
        "    return f\"{prediction[0]:.2f} kWh\"\n",
        "\n",
        "# Configurar la interfaz de Gradio\n",
        "iface = gr.Interface(\n",
        "    fn=predict_energy,\n",
        "    inputs=[\n",
        "        gr.Slider(minimum=0,  maximum=40, step=0.5, value=20, label=\"Temperatura Interior (°C)\"),\n",
        "        gr.Slider(minimum=0,  maximum=100, step=1,  value=50, label=\"Humedad Interior (%)\"),\n",
        "        gr.Slider(minimum=0,  maximum=100, step=1,  value=60, label=\"Humedad Exterior (%)\"),\n",
        "        gr.Slider(minimum=0,  maximum=23, step=1,  value=12, label=\"Hora del día\"),\n",
        "        gr.Slider(minimum=0,  maximum=6,  step=1,  value=2,  label=\"Día de la semana (0=Lunes,6=Dom)\"),\n",
        "        gr.Number(value=2,  label=\"Número de Ocupantes\")\n",
        "    ],\n",
        "    outputs=\"text\",\n",
        "    title=\"Predicción de Consumo Energético (kWh)\"\n",
        ")\n",
        "\n",
        "if __name__ == \"__main__\":\n",
        "    iface.launch()\n",
        "\n",
        "\n",
        "\n"
      ]
    }
  ]
}